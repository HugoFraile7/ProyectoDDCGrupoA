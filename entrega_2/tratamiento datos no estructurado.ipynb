{
  "cells": [
    {
      "cell_type": "code",
      "execution_count": 56,
      "metadata": {
        "id": "EVRFwJ6AGzaZ"
      },
      "outputs": [],
      "source": [
        "import pandas as pd\n",
        "import matplotlib.pyplot as plt\n",
        "import numpy as np\n",
        "import seaborn as sns"
      ]
    },
    {
      "cell_type": "code",
      "execution_count": 57,
      "metadata": {
        "id": "V5dywQRPHCWv"
      },
      "outputs": [],
      "source": [
        "df = pd.read_csv(r'../dataraw/Apple_phones_merge_ETL.csv')"
      ]
    },
    {
      "cell_type": "code",
      "execution_count": 58,
      "metadata": {
        "colab": {
          "base_uri": "https://localhost:8080/"
        },
        "id": "hbsJ2-dUM7_M",
        "outputId": "a79d8167-5615-4c09-925f-fc6d60a70f33"
      },
      "outputs": [
        {
          "name": "stdout",
          "output_type": "stream",
          "text": [
            "                                              review language\n",
            "0  I am a content creator and needed a second pho...       en\n",
            "1  Got it to replace my 13 year olds xr in a pinc...       en\n",
            "2  The exterior is in perfect condition and so fa...       en\n",
            "3  I have had this product for a few years and it...       en\n",
            "4  Item was received exactly as expected. The pho...       en\n"
          ]
        }
      ],
      "source": [
        "import pandas as pd\n",
        "from langdetect import detect, DetectorFactory\n",
        "\n",
        "# Optional: Set seed for reproducibility\n",
        "DetectorFactory.seed = 0\n",
        "\n",
        "# Function to detect language\n",
        "def detect_language(review):\n",
        "    try:\n",
        "        return detect(review)\n",
        "    except:\n",
        "        return None  # Return None for any errors\n",
        "\n",
        "# Apply the function to the 'review' column\n",
        "df['language'] = df['review'].apply(detect_language)\n",
        "\n",
        "# Display the updated DataFrame\n",
        "print(df[['review', 'language']].head())\n"
      ]
    },
    {
      "cell_type": "code",
      "execution_count": 59,
      "metadata": {
        "colab": {
          "base_uri": "https://localhost:8080/"
        },
        "id": "s6mXbhrTL2he",
        "outputId": "526bf013-296a-4a01-849f-4ba2ad26a423"
      },
      "outputs": [
        {
          "name": "stdout",
          "output_type": "stream",
          "text": [
            "['en' 'es' 'fr' 'af' 'no' 'ur' 'ro' 'ca' 'hr']\n"
          ]
        }
      ],
      "source": [
        "\n",
        "# Get unique countries\n",
        "unique_countries = df['language'].unique()\n",
        "\n",
        "# Display the unique countries\n",
        "print(unique_countries)\n"
      ]
    },
    {
      "cell_type": "code",
      "execution_count": 60,
      "metadata": {
        "colab": {
          "base_uri": "https://localhost:8080/"
        },
        "id": "VF2GGiUANXxY",
        "outputId": "b473687e-a8b6-4c5c-c8f2-6fa253dc1258"
      },
      "outputs": [
        {
          "name": "stdout",
          "output_type": "stream",
          "text": [
            "Número de filas con idioma \"en\": 590\n",
            "0.8513708513708513\n"
          ]
        }
      ],
      "source": [
        "# Contar cuántas filas tienen 'en' en la columna 'language'\n",
        "count_en = (df['language'] == 'en').sum()\n",
        "\n",
        "# Mostrar el resultado\n",
        "print(f'Número de filas con idioma \"en\": {count_en}')\n",
        "print(count_en/len(df))"
      ]
    },
    {
      "cell_type": "code",
      "execution_count": 61,
      "metadata": {
        "id": "L_zpVPdoOqbR"
      },
      "outputs": [],
      "source": [
        "# Filtrar el DataFrame para quedarte solo con las filas donde 'language' es 'en'\n",
        "df_en = df[df['language'] == 'en']"
      ]
    },
    {
      "cell_type": "code",
      "execution_count": 62,
      "metadata": {
        "colab": {
          "base_uri": "https://localhost:8080/"
        },
        "id": "aziuR5mHQ8ZI",
        "outputId": "76408c2b-e452-404b-ae2c-48d4e08897a8"
      },
      "outputs": [
        {
          "name": "stderr",
          "output_type": "stream",
          "text": [
            "/var/folders/j6/s68ysphd2330y28yn3687q9r0000gn/T/ipykernel_86643/774296470.py:1: SettingWithCopyWarning: \n",
            "A value is trying to be set on a copy of a slice from a DataFrame.\n",
            "Try using .loc[row_indexer,col_indexer] = value instead\n",
            "\n",
            "See the caveats in the documentation: https://pandas.pydata.org/pandas-docs/stable/user_guide/indexing.html#returning-a-view-versus-a-copy\n",
            "  df_en['review'] = df_en['review'].str.lower()\n"
          ]
        }
      ],
      "source": [
        "df_en['review'] = df_en['review'].str.lower()"
      ]
    },
    {
      "cell_type": "code",
      "execution_count": 63,
      "metadata": {
        "colab": {
          "base_uri": "https://localhost:8080/"
        },
        "id": "h_sa1oCwJEL2",
        "outputId": "9ca150bd-da69-4acb-f28e-a24abab23226"
      },
      "outputs": [
        {
          "name": "stderr",
          "output_type": "stream",
          "text": [
            "/var/folders/j6/s68ysphd2330y28yn3687q9r0000gn/T/ipykernel_86643/654291960.py:4: SettingWithCopyWarning: \n",
            "A value is trying to be set on a copy of a slice from a DataFrame.\n",
            "Try using .loc[row_indexer,col_indexer] = value instead\n",
            "\n",
            "See the caveats in the documentation: https://pandas.pydata.org/pandas-docs/stable/user_guide/indexing.html#returning-a-view-versus-a-copy\n",
            "  df_en['tk_review'] = df_en['review'].apply(casual_tokenize)\n"
          ]
        }
      ],
      "source": [
        "from nltk.tokenize.casual import casual_tokenize\n",
        "\n",
        "\n",
        "df_en['tk_review'] = df_en['review'].apply(casual_tokenize)"
      ]
    },
    {
      "cell_type": "code",
      "execution_count": 64,
      "metadata": {
        "colab": {
          "base_uri": "https://localhost:8080/",
          "height": 1000
        },
        "id": "ow7Oq8kgLkw_",
        "outputId": "e67674e7-f430-4f97-de7a-306ca4302883"
      },
      "outputs": [
        {
          "data": {
            "text/html": [
              "<div>\n",
              "<style scoped>\n",
              "    .dataframe tbody tr th:only-of-type {\n",
              "        vertical-align: middle;\n",
              "    }\n",
              "\n",
              "    .dataframe tbody tr th {\n",
              "        vertical-align: top;\n",
              "    }\n",
              "\n",
              "    .dataframe thead th {\n",
              "        text-align: right;\n",
              "    }\n",
              "</style>\n",
              "<table border=\"1\" class=\"dataframe\">\n",
              "  <thead>\n",
              "    <tr style=\"text-align: right;\">\n",
              "      <th></th>\n",
              "      <th>model_name</th>\n",
              "      <th>Price (Dollar)</th>\n",
              "      <th>Storage (GB)</th>\n",
              "      <th>review</th>\n",
              "      <th>timestamp</th>\n",
              "      <th>stars</th>\n",
              "      <th>country</th>\n",
              "      <th>language</th>\n",
              "      <th>tk_review</th>\n",
              "    </tr>\n",
              "  </thead>\n",
              "  <tbody>\n",
              "    <tr>\n",
              "      <th>0</th>\n",
              "      <td>iPhone XR</td>\n",
              "      <td>168.39</td>\n",
              "      <td>64</td>\n",
              "      <td>i am a content creator and needed a second pho...</td>\n",
              "      <td>2024-09-06</td>\n",
              "      <td>5</td>\n",
              "      <td>the United States</td>\n",
              "      <td>en</td>\n",
              "      <td>[i, am, a, content, creator, and, needed, a, s...</td>\n",
              "    </tr>\n",
              "    <tr>\n",
              "      <th>1</th>\n",
              "      <td>iPhone XR</td>\n",
              "      <td>168.39</td>\n",
              "      <td>64</td>\n",
              "      <td>got it to replace my 13 year olds xr in a pinc...</td>\n",
              "      <td>2024-09-15</td>\n",
              "      <td>5</td>\n",
              "      <td>the United States</td>\n",
              "      <td>en</td>\n",
              "      <td>[got, it, to, replace, my, 13, year, olds, xr,...</td>\n",
              "    </tr>\n",
              "    <tr>\n",
              "      <th>2</th>\n",
              "      <td>iPhone XR</td>\n",
              "      <td>168.39</td>\n",
              "      <td>64</td>\n",
              "      <td>the exterior is in perfect condition and so fa...</td>\n",
              "      <td>2024-05-24</td>\n",
              "      <td>5</td>\n",
              "      <td>the United States</td>\n",
              "      <td>en</td>\n",
              "      <td>[the, exterior, is, in, perfect, condition, an...</td>\n",
              "    </tr>\n",
              "    <tr>\n",
              "      <th>3</th>\n",
              "      <td>iPhone XR</td>\n",
              "      <td>168.39</td>\n",
              "      <td>64</td>\n",
              "      <td>i have had this product for a few years and it...</td>\n",
              "      <td>2024-07-10</td>\n",
              "      <td>4</td>\n",
              "      <td>the United States</td>\n",
              "      <td>en</td>\n",
              "      <td>[i, have, had, this, product, for, a, few, yea...</td>\n",
              "    </tr>\n",
              "    <tr>\n",
              "      <th>4</th>\n",
              "      <td>iPhone XR</td>\n",
              "      <td>168.39</td>\n",
              "      <td>64</td>\n",
              "      <td>item was received exactly as expected. the pho...</td>\n",
              "      <td>2024-08-21</td>\n",
              "      <td>5</td>\n",
              "      <td>the United States</td>\n",
              "      <td>en</td>\n",
              "      <td>[item, was, received, exactly, as, expected, ....</td>\n",
              "    </tr>\n",
              "    <tr>\n",
              "      <th>5</th>\n",
              "      <td>iPhone XR</td>\n",
              "      <td>168.39</td>\n",
              "      <td>64</td>\n",
              "      <td>i’ve had this phone for a couple years now, it...</td>\n",
              "      <td>2024-09-07</td>\n",
              "      <td>5</td>\n",
              "      <td>the United States</td>\n",
              "      <td>en</td>\n",
              "      <td>[i, ’, ve, had, this, phone, for, a, couple, y...</td>\n",
              "    </tr>\n",
              "    <tr>\n",
              "      <th>6</th>\n",
              "      <td>iPhone XR</td>\n",
              "      <td>168.39</td>\n",
              "      <td>64</td>\n",
              "      <td>hey guys, so i ordered this phone on the 19th ...</td>\n",
              "      <td>2024-09-22</td>\n",
              "      <td>5</td>\n",
              "      <td>the United States</td>\n",
              "      <td>en</td>\n",
              "      <td>[hey, guys, ,, so, i, ordered, this, phone, on...</td>\n",
              "    </tr>\n",
              "    <tr>\n",
              "      <th>10</th>\n",
              "      <td>iPhone 11</td>\n",
              "      <td>230.00</td>\n",
              "      <td>64</td>\n",
              "      <td>i honestly can’t say enough amazing things abo...</td>\n",
              "      <td>2024-09-18</td>\n",
              "      <td>5</td>\n",
              "      <td>the United States</td>\n",
              "      <td>en</td>\n",
              "      <td>[i, honestly, can, ’, t, say, enough, amazing,...</td>\n",
              "    </tr>\n",
              "    <tr>\n",
              "      <th>11</th>\n",
              "      <td>iPhone 11</td>\n",
              "      <td>230.00</td>\n",
              "      <td>64</td>\n",
              "      <td>okay, it came in a weird packaging so i was su...</td>\n",
              "      <td>2024-09-11</td>\n",
              "      <td>5</td>\n",
              "      <td>the United States</td>\n",
              "      <td>en</td>\n",
              "      <td>[okay, ,, it, came, in, a, weird, packaging, s...</td>\n",
              "    </tr>\n",
              "    <tr>\n",
              "      <th>12</th>\n",
              "      <td>iPhone 11</td>\n",
              "      <td>230.00</td>\n",
              "      <td>64</td>\n",
              "      <td>the only complaint so far is that the directio...</td>\n",
              "      <td>2024-08-22</td>\n",
              "      <td>5</td>\n",
              "      <td>the United States</td>\n",
              "      <td>en</td>\n",
              "      <td>[the, only, complaint, so, far, is, that, the,...</td>\n",
              "    </tr>\n",
              "    <tr>\n",
              "      <th>13</th>\n",
              "      <td>iPhone 11</td>\n",
              "      <td>230.00</td>\n",
              "      <td>64</td>\n",
              "      <td>i recently purchased the iphone 11 256gb renew...</td>\n",
              "      <td>2024-07-29</td>\n",
              "      <td>4</td>\n",
              "      <td>the United States</td>\n",
              "      <td>en</td>\n",
              "      <td>[i, recently, purchased, the, iphone, 11, 256g...</td>\n",
              "    </tr>\n",
              "    <tr>\n",
              "      <th>14</th>\n",
              "      <td>iPhone 11</td>\n",
              "      <td>230.00</td>\n",
              "      <td>64</td>\n",
              "      <td>my son's been wanting a iphone for a long time...</td>\n",
              "      <td>2024-09-09</td>\n",
              "      <td>5</td>\n",
              "      <td>the United States</td>\n",
              "      <td>en</td>\n",
              "      <td>[my, son's, been, wanting, a, iphone, for, a, ...</td>\n",
              "    </tr>\n",
              "    <tr>\n",
              "      <th>15</th>\n",
              "      <td>iPhone 11</td>\n",
              "      <td>230.00</td>\n",
              "      <td>64</td>\n",
              "      <td>i like this phone !! i had a iphone 7 and hear...</td>\n",
              "      <td>2024-09-21</td>\n",
              "      <td>5</td>\n",
              "      <td>Canada</td>\n",
              "      <td>en</td>\n",
              "      <td>[i, like, this, phone, !, !, i, had, a, iphone...</td>\n",
              "    </tr>\n",
              "    <tr>\n",
              "      <th>17</th>\n",
              "      <td>iPhone 11</td>\n",
              "      <td>230.00</td>\n",
              "      <td>64</td>\n",
              "      <td>iphone arrive fast and secured. phone was clea...</td>\n",
              "      <td>2024-09-20</td>\n",
              "      <td>5</td>\n",
              "      <td>Canada</td>\n",
              "      <td>en</td>\n",
              "      <td>[iphone, arrive, fast, and, secured, ., phone,...</td>\n",
              "    </tr>\n",
              "    <tr>\n",
              "      <th>18</th>\n",
              "      <td>iPhone 11</td>\n",
              "      <td>230.00</td>\n",
              "      <td>64</td>\n",
              "      <td>got the colour i wanted. i also saw this a med...</td>\n",
              "      <td>2024-09-17</td>\n",
              "      <td>5</td>\n",
              "      <td>Canada</td>\n",
              "      <td>en</td>\n",
              "      <td>[got, the, colour, i, wanted, ., i, also, saw,...</td>\n",
              "    </tr>\n",
              "    <tr>\n",
              "      <th>19</th>\n",
              "      <td>iPhone 11</td>\n",
              "      <td>230.00</td>\n",
              "      <td>64</td>\n",
              "      <td>buen producto, hasta ahorita ha salido bueno\\n...</td>\n",
              "      <td>2024-09-11</td>\n",
              "      <td>5</td>\n",
              "      <td>Mexico</td>\n",
              "      <td>en</td>\n",
              "      <td>[buen, producto, ,, hasta, ahorita, ha, salido...</td>\n",
              "    </tr>\n",
              "    <tr>\n",
              "      <th>20</th>\n",
              "      <td>iPhone 12</td>\n",
              "      <td>287.00</td>\n",
              "      <td>64</td>\n",
              "      <td>for starters; the price on these phones is gre...</td>\n",
              "      <td>2024-02-10</td>\n",
              "      <td>5</td>\n",
              "      <td>the United States</td>\n",
              "      <td>en</td>\n",
              "      <td>[for, starters, ;, the, price, on, these, phon...</td>\n",
              "    </tr>\n",
              "    <tr>\n",
              "      <th>21</th>\n",
              "      <td>iPhone 12</td>\n",
              "      <td>287.00</td>\n",
              "      <td>64</td>\n",
              "      <td>i was looking to save money so i took a “risk”...</td>\n",
              "      <td>2024-09-03</td>\n",
              "      <td>5</td>\n",
              "      <td>the United States</td>\n",
              "      <td>en</td>\n",
              "      <td>[i, was, looking, to, save, money, so, i, took...</td>\n",
              "    </tr>\n",
              "    <tr>\n",
              "      <th>22</th>\n",
              "      <td>iPhone 12</td>\n",
              "      <td>287.00</td>\n",
              "      <td>64</td>\n",
              "      <td>like the lightness compared to my samsung s24 ...</td>\n",
              "      <td>2024-06-24</td>\n",
              "      <td>4</td>\n",
              "      <td>the United States</td>\n",
              "      <td>en</td>\n",
              "      <td>[like, the, lightness, compared, to, my, samsu...</td>\n",
              "    </tr>\n",
              "    <tr>\n",
              "      <th>23</th>\n",
              "      <td>iPhone 12</td>\n",
              "      <td>287.00</td>\n",
              "      <td>64</td>\n",
              "      <td>first of all i bought the phone and the descri...</td>\n",
              "      <td>2024-09-07</td>\n",
              "      <td>3</td>\n",
              "      <td>the United States</td>\n",
              "      <td>en</td>\n",
              "      <td>[first, of, all, i, bought, the, phone, and, t...</td>\n",
              "    </tr>\n",
              "  </tbody>\n",
              "</table>\n",
              "</div>"
            ],
            "text/plain": [
              "   model_name  Price (Dollar)  Storage (GB)  \\\n",
              "0   iPhone XR          168.39            64   \n",
              "1   iPhone XR          168.39            64   \n",
              "2   iPhone XR          168.39            64   \n",
              "3   iPhone XR          168.39            64   \n",
              "4   iPhone XR          168.39            64   \n",
              "5   iPhone XR          168.39            64   \n",
              "6   iPhone XR          168.39            64   \n",
              "10  iPhone 11          230.00            64   \n",
              "11  iPhone 11          230.00            64   \n",
              "12  iPhone 11          230.00            64   \n",
              "13  iPhone 11          230.00            64   \n",
              "14  iPhone 11          230.00            64   \n",
              "15  iPhone 11          230.00            64   \n",
              "17  iPhone 11          230.00            64   \n",
              "18  iPhone 11          230.00            64   \n",
              "19  iPhone 11          230.00            64   \n",
              "20  iPhone 12          287.00            64   \n",
              "21  iPhone 12          287.00            64   \n",
              "22  iPhone 12          287.00            64   \n",
              "23  iPhone 12          287.00            64   \n",
              "\n",
              "                                               review   timestamp  stars  \\\n",
              "0   i am a content creator and needed a second pho...  2024-09-06      5   \n",
              "1   got it to replace my 13 year olds xr in a pinc...  2024-09-15      5   \n",
              "2   the exterior is in perfect condition and so fa...  2024-05-24      5   \n",
              "3   i have had this product for a few years and it...  2024-07-10      4   \n",
              "4   item was received exactly as expected. the pho...  2024-08-21      5   \n",
              "5   i’ve had this phone for a couple years now, it...  2024-09-07      5   \n",
              "6   hey guys, so i ordered this phone on the 19th ...  2024-09-22      5   \n",
              "10  i honestly can’t say enough amazing things abo...  2024-09-18      5   \n",
              "11  okay, it came in a weird packaging so i was su...  2024-09-11      5   \n",
              "12  the only complaint so far is that the directio...  2024-08-22      5   \n",
              "13  i recently purchased the iphone 11 256gb renew...  2024-07-29      4   \n",
              "14  my son's been wanting a iphone for a long time...  2024-09-09      5   \n",
              "15  i like this phone !! i had a iphone 7 and hear...  2024-09-21      5   \n",
              "17  iphone arrive fast and secured. phone was clea...  2024-09-20      5   \n",
              "18  got the colour i wanted. i also saw this a med...  2024-09-17      5   \n",
              "19  buen producto, hasta ahorita ha salido bueno\\n...  2024-09-11      5   \n",
              "20  for starters; the price on these phones is gre...  2024-02-10      5   \n",
              "21  i was looking to save money so i took a “risk”...  2024-09-03      5   \n",
              "22  like the lightness compared to my samsung s24 ...  2024-06-24      4   \n",
              "23  first of all i bought the phone and the descri...  2024-09-07      3   \n",
              "\n",
              "              country language  \\\n",
              "0   the United States       en   \n",
              "1   the United States       en   \n",
              "2   the United States       en   \n",
              "3   the United States       en   \n",
              "4   the United States       en   \n",
              "5   the United States       en   \n",
              "6   the United States       en   \n",
              "10  the United States       en   \n",
              "11  the United States       en   \n",
              "12  the United States       en   \n",
              "13  the United States       en   \n",
              "14  the United States       en   \n",
              "15             Canada       en   \n",
              "17             Canada       en   \n",
              "18             Canada       en   \n",
              "19             Mexico       en   \n",
              "20  the United States       en   \n",
              "21  the United States       en   \n",
              "22  the United States       en   \n",
              "23  the United States       en   \n",
              "\n",
              "                                            tk_review  \n",
              "0   [i, am, a, content, creator, and, needed, a, s...  \n",
              "1   [got, it, to, replace, my, 13, year, olds, xr,...  \n",
              "2   [the, exterior, is, in, perfect, condition, an...  \n",
              "3   [i, have, had, this, product, for, a, few, yea...  \n",
              "4   [item, was, received, exactly, as, expected, ....  \n",
              "5   [i, ’, ve, had, this, phone, for, a, couple, y...  \n",
              "6   [hey, guys, ,, so, i, ordered, this, phone, on...  \n",
              "10  [i, honestly, can, ’, t, say, enough, amazing,...  \n",
              "11  [okay, ,, it, came, in, a, weird, packaging, s...  \n",
              "12  [the, only, complaint, so, far, is, that, the,...  \n",
              "13  [i, recently, purchased, the, iphone, 11, 256g...  \n",
              "14  [my, son's, been, wanting, a, iphone, for, a, ...  \n",
              "15  [i, like, this, phone, !, !, i, had, a, iphone...  \n",
              "17  [iphone, arrive, fast, and, secured, ., phone,...  \n",
              "18  [got, the, colour, i, wanted, ., i, also, saw,...  \n",
              "19  [buen, producto, ,, hasta, ahorita, ha, salido...  \n",
              "20  [for, starters, ;, the, price, on, these, phon...  \n",
              "21  [i, was, looking, to, save, money, so, i, took...  \n",
              "22  [like, the, lightness, compared, to, my, samsu...  \n",
              "23  [first, of, all, i, bought, the, phone, and, t...  "
            ]
          },
          "execution_count": 64,
          "metadata": {},
          "output_type": "execute_result"
        }
      ],
      "source": [
        "df_en.head(20)"
      ]
    },
    {
      "cell_type": "code",
      "execution_count": 65,
      "metadata": {
        "colab": {
          "base_uri": "https://localhost:8080/"
        },
        "id": "JpAgahjKQpdm",
        "outputId": "ccce5ff9-a673-4987-e258-06d6af00ad4c"
      },
      "outputs": [
        {
          "name": "stdout",
          "output_type": "stream",
          "text": [
            "['i', 'me', 'my', 'myself', 'we', 'our', 'ours', 'ourselves', 'you', \"you're\", \"you've\", \"you'll\", \"you'd\", 'your', 'yours', 'yourself', 'yourselves', 'he', 'him', 'his', 'himself', 'she', \"she's\", 'her', 'hers', 'herself', 'it', \"it's\", 'its', 'itself', 'they', 'them', 'their', 'theirs', 'themselves', 'what', 'which', 'who', 'whom', 'this', 'that', \"that'll\", 'these', 'those', 'am', 'is', 'are', 'was', 'were', 'be', 'been', 'being', 'have', 'has', 'had', 'having', 'do', 'does', 'did', 'doing', 'a', 'an', 'the', 'and', 'but', 'if', 'or', 'because', 'as', 'until', 'while', 'of', 'at', 'by', 'for', 'with', 'about', 'against', 'between', 'into', 'through', 'during', 'before', 'after', 'above', 'below', 'to', 'from', 'up', 'down', 'in', 'out', 'on', 'off', 'over', 'under', 'again', 'further', 'then', 'once', 'here', 'there', 'when', 'where', 'why', 'how', 'all', 'any', 'both', 'each', 'few', 'more', 'most', 'other', 'some', 'such', 'no', 'nor', 'not', 'only', 'own', 'same', 'so', 'than', 'too', 'very', 's', 't', 'can', 'will', 'just', 'don', \"don't\", 'should', \"should've\", 'now', 'd', 'll', 'm', 'o', 're', 've', 'y', 'ain', 'aren', \"aren't\", 'couldn', \"couldn't\", 'didn', \"didn't\", 'doesn', \"doesn't\", 'hadn', \"hadn't\", 'hasn', \"hasn't\", 'haven', \"haven't\", 'isn', \"isn't\", 'ma', 'mightn', \"mightn't\", 'mustn', \"mustn't\", 'needn', \"needn't\", 'shan', \"shan't\", 'shouldn', \"shouldn't\", 'wasn', \"wasn't\", 'weren', \"weren't\", 'won', \"won't\", 'wouldn', \"wouldn't\"]\n"
          ]
        },
        {
          "name": "stderr",
          "output_type": "stream",
          "text": [
            "[nltk_data] Downloading package stopwords to /Users/hugo/nltk_data...\n",
            "[nltk_data]   Package stopwords is already up-to-date!\n"
          ]
        }
      ],
      "source": [
        "import nltk\n",
        "nltk.download('stopwords')\n",
        "stop_words = nltk.corpus.stopwords.words('english')\n",
        "print(stop_words)"
      ]
    },
    {
      "cell_type": "code",
      "execution_count": 66,
      "metadata": {
        "colab": {
          "base_uri": "https://localhost:8080/"
        },
        "id": "C2VCYg9BPRou",
        "outputId": "1155d129-0c9f-4328-f536-bd3039c46929"
      },
      "outputs": [
        {
          "name": "stderr",
          "output_type": "stream",
          "text": [
            "[nltk_data] Downloading package stopwords to /Users/hugo/nltk_data...\n",
            "[nltk_data]   Package stopwords is already up-to-date!\n",
            "/var/folders/j6/s68ysphd2330y28yn3687q9r0000gn/T/ipykernel_86643/39194031.py:6: SettingWithCopyWarning: \n",
            "A value is trying to be set on a copy of a slice from a DataFrame.\n",
            "Try using .loc[row_indexer,col_indexer] = value instead\n",
            "\n",
            "See the caveats in the documentation: https://pandas.pydata.org/pandas-docs/stable/user_guide/indexing.html#returning-a-view-versus-a-copy\n",
            "  df_en['tk_review'] = df_en['tk_review'].apply(lambda x: [item for item in x if item not in stop_words])\n"
          ]
        }
      ],
      "source": [
        "import nltk\n",
        "nltk.download('stopwords')\n",
        "stop_words = set(nltk.corpus.stopwords.words('english'))\n",
        "\n",
        "\n",
        "df_en['tk_review'] = df_en['tk_review'].apply(lambda x: [item for item in x if item not in stop_words])"
      ]
    },
    {
      "cell_type": "code",
      "execution_count": 68,
      "metadata": {},
      "outputs": [],
      "source": [
        "df_en.to_csv('../dataraw/Apple_phones_preprocessed.csv', index_label=False)"
      ]
    }
  ],
  "metadata": {
    "colab": {
      "provenance": []
    },
    "kernelspec": {
      "display_name": "Python 3",
      "name": "python3"
    },
    "language_info": {
      "codemirror_mode": {
        "name": "ipython",
        "version": 3
      },
      "file_extension": ".py",
      "mimetype": "text/x-python",
      "name": "python",
      "nbconvert_exporter": "python",
      "pygments_lexer": "ipython3",
      "version": "3.11.8"
    }
  },
  "nbformat": 4,
  "nbformat_minor": 0
}
